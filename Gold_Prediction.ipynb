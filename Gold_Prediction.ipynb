{
 "cells": [
  {
   "cell_type": "markdown",
   "id": "ab789d2c",
   "metadata": {},
   "source": [
    "# GOLD PRICE PREDICTION WITH LINEAR REGRESSION AND RANDOM FOREST"
   ]
  },
  {
   "cell_type": "markdown",
   "id": "61ae7808",
   "metadata": {},
   "source": [
    "### Importing Libaries"
   ]
  },
  {
   "cell_type": "code",
   "execution_count": 1,
   "id": "0fbc4955",
   "metadata": {},
   "outputs": [],
   "source": [
    "import numpy as np\n",
    "import pandas as pd\n",
    "import matplotlib.pyplot as plt\n",
    "import seaborn as sns\n",
    "from scipy import stats\n",
    "# For models\n",
    "from sklearn.model_selection import train_test_split\n",
    "from sklearn.linear_model import LinearRegression\n",
    "from sklearn.metrics import mean_absolute_error,mean_squared_error\n",
    "from math import sqrt"
   ]
  },
  {
   "cell_type": "markdown",
   "id": "0bf2e69a",
   "metadata": {},
   "source": [
    "### Load the Data and Some Minor Cleaning"
   ]
  },
  {
   "cell_type": "markdown",
   "id": "e5953a23",
   "metadata": {},
   "source": [
    "### Importing the Data into a Pandas DataFrame for further analysis"
   ]
  },
  {
   "cell_type": "code",
   "execution_count": 2,
   "id": "5f953557",
   "metadata": {
    "execution": {
     "iopub.execute_input": "2022-04-21T13:32:41.880423Z",
     "iopub.status.busy": "2022-04-21T13:32:41.880145Z",
     "iopub.status.idle": "2022-04-21T13:32:41.907252Z",
     "shell.execute_reply": "2022-04-21T13:32:41.906582Z"
    },
    "papermill": {
     "duration": 0.088626,
     "end_time": "2022-04-21T13:32:41.909707",
     "exception": false,
     "start_time": "2022-04-21T13:32:41.821081",
     "status": "completed"
    },
    "tags": []
   },
   "outputs": [],
   "source": [
    "df = pd.read_csv('dataset/Gold_Price_Data_Final_Final.csv')"
   ]
  },
  {
   "cell_type": "markdown",
   "id": "d62cae7b",
   "metadata": {},
   "source": [
    "#### First 5 entries of the data"
   ]
  },
  {
   "cell_type": "code",
   "execution_count": 3,
   "id": "131689bf",
   "metadata": {
    "execution": {
     "iopub.execute_input": "2022-04-21T13:32:42.030134Z",
     "iopub.status.busy": "2022-04-21T13:32:42.029648Z",
     "iopub.status.idle": "2022-04-21T13:32:42.051998Z",
     "shell.execute_reply": "2022-04-21T13:32:42.051381Z"
    },
    "papermill": {
     "duration": 0.082906,
     "end_time": "2022-04-21T13:32:42.054113",
     "exception": false,
     "start_time": "2022-04-21T13:32:41.971207",
     "status": "completed"
    },
    "tags": []
   },
   "outputs": [
    {
     "data": {
      "text/html": [
       "<div>\n",
       "<style scoped>\n",
       "    .dataframe tbody tr th:only-of-type {\n",
       "        vertical-align: middle;\n",
       "    }\n",
       "\n",
       "    .dataframe tbody tr th {\n",
       "        vertical-align: top;\n",
       "    }\n",
       "\n",
       "    .dataframe thead th {\n",
       "        text-align: right;\n",
       "    }\n",
       "</style>\n",
       "<table border=\"1\" class=\"dataframe\">\n",
       "  <thead>\n",
       "    <tr style=\"text-align: right;\">\n",
       "      <th></th>\n",
       "      <th>Price</th>\n",
       "      <th>Year</th>\n",
       "      <th>Month</th>\n",
       "      <th>Day</th>\n",
       "    </tr>\n",
       "  </thead>\n",
       "  <tbody>\n",
       "    <tr>\n",
       "      <th>0</th>\n",
       "      <td>281.0</td>\n",
       "      <td>2000</td>\n",
       "      <td>1</td>\n",
       "      <td>4</td>\n",
       "    </tr>\n",
       "    <tr>\n",
       "      <th>1</th>\n",
       "      <td>283.2</td>\n",
       "      <td>2000</td>\n",
       "      <td>1</td>\n",
       "      <td>5</td>\n",
       "    </tr>\n",
       "    <tr>\n",
       "      <th>2</th>\n",
       "      <td>281.4</td>\n",
       "      <td>2000</td>\n",
       "      <td>1</td>\n",
       "      <td>6</td>\n",
       "    </tr>\n",
       "    <tr>\n",
       "      <th>3</th>\n",
       "      <td>281.9</td>\n",
       "      <td>2000</td>\n",
       "      <td>1</td>\n",
       "      <td>7</td>\n",
       "    </tr>\n",
       "    <tr>\n",
       "      <th>4</th>\n",
       "      <td>281.7</td>\n",
       "      <td>2000</td>\n",
       "      <td>1</td>\n",
       "      <td>10</td>\n",
       "    </tr>\n",
       "  </tbody>\n",
       "</table>\n",
       "</div>"
      ],
      "text/plain": [
       "   Price  Year  Month  Day\n",
       "0  281.0  2000      1    4\n",
       "1  283.2  2000      1    5\n",
       "2  281.4  2000      1    6\n",
       "3  281.9  2000      1    7\n",
       "4  281.7  2000      1   10"
      ]
     },
     "execution_count": 3,
     "metadata": {},
     "output_type": "execute_result"
    }
   ],
   "source": [
    "df.head()"
   ]
  },
  {
   "cell_type": "code",
   "execution_count": 4,
   "id": "13957a6e",
   "metadata": {},
   "outputs": [
    {
     "data": {
      "text/html": [
       "<div>\n",
       "<style scoped>\n",
       "    .dataframe tbody tr th:only-of-type {\n",
       "        vertical-align: middle;\n",
       "    }\n",
       "\n",
       "    .dataframe tbody tr th {\n",
       "        vertical-align: top;\n",
       "    }\n",
       "\n",
       "    .dataframe thead th {\n",
       "        text-align: right;\n",
       "    }\n",
       "</style>\n",
       "<table border=\"1\" class=\"dataframe\">\n",
       "  <thead>\n",
       "    <tr style=\"text-align: right;\">\n",
       "      <th></th>\n",
       "      <th>Price</th>\n",
       "      <th>Year</th>\n",
       "      <th>Month</th>\n",
       "      <th>Day</th>\n",
       "    </tr>\n",
       "  </thead>\n",
       "  <tbody>\n",
       "    <tr>\n",
       "      <th>5701</th>\n",
       "      <td>1970.5</td>\n",
       "      <td>2022</td>\n",
       "      <td>4</td>\n",
       "      <td>13</td>\n",
       "    </tr>\n",
       "    <tr>\n",
       "      <th>5702</th>\n",
       "      <td>1981.6</td>\n",
       "      <td>2022</td>\n",
       "      <td>4</td>\n",
       "      <td>14</td>\n",
       "    </tr>\n",
       "    <tr>\n",
       "      <th>5703</th>\n",
       "      <td>1978.5</td>\n",
       "      <td>2022</td>\n",
       "      <td>4</td>\n",
       "      <td>18</td>\n",
       "    </tr>\n",
       "    <tr>\n",
       "      <th>5704</th>\n",
       "      <td>1981.2</td>\n",
       "      <td>2022</td>\n",
       "      <td>4</td>\n",
       "      <td>19</td>\n",
       "    </tr>\n",
       "    <tr>\n",
       "      <th>5705</th>\n",
       "      <td>1952.1</td>\n",
       "      <td>2022</td>\n",
       "      <td>4</td>\n",
       "      <td>20</td>\n",
       "    </tr>\n",
       "  </tbody>\n",
       "</table>\n",
       "</div>"
      ],
      "text/plain": [
       "       Price  Year  Month  Day\n",
       "5701  1970.5  2022      4   13\n",
       "5702  1981.6  2022      4   14\n",
       "5703  1978.5  2022      4   18\n",
       "5704  1981.2  2022      4   19\n",
       "5705  1952.1  2022      4   20"
      ]
     },
     "execution_count": 4,
     "metadata": {},
     "output_type": "execute_result"
    }
   ],
   "source": [
    "df.tail()"
   ]
  },
  {
   "cell_type": "markdown",
   "id": "9a2b7068",
   "metadata": {},
   "source": [
    "### Handling Null Values"
   ]
  },
  {
   "cell_type": "code",
   "execution_count": 5,
   "id": "eb1eb27d",
   "metadata": {
    "execution": {
     "iopub.execute_input": "2022-04-21T13:32:42.171612Z",
     "iopub.status.busy": "2022-04-21T13:32:42.171259Z",
     "iopub.status.idle": "2022-04-21T13:32:42.210132Z",
     "shell.execute_reply": "2022-04-21T13:32:42.209102Z"
    },
    "papermill": {
     "duration": 0.101009,
     "end_time": "2022-04-21T13:32:42.212597",
     "exception": false,
     "start_time": "2022-04-21T13:32:42.111588",
     "status": "completed"
    },
    "tags": []
   },
   "outputs": [
    {
     "data": {
      "text/plain": [
       "Price    False\n",
       "Year     False\n",
       "Month    False\n",
       "Day      False\n",
       "dtype: bool"
      ]
     },
     "execution_count": 5,
     "metadata": {},
     "output_type": "execute_result"
    }
   ],
   "source": [
    "df.isnull().any()"
   ]
  },
  {
   "cell_type": "markdown",
   "id": "cb218ddd",
   "metadata": {},
   "source": [
    "### Finding and Removing Outliers"
   ]
  },
  {
   "cell_type": "code",
   "execution_count": 6,
   "id": "80ce2b79",
   "metadata": {},
   "outputs": [],
   "source": [
    "from scipy import stats"
   ]
  },
  {
   "cell_type": "code",
   "execution_count": 7,
   "id": "fa18497e",
   "metadata": {},
   "outputs": [
    {
     "data": {
      "text/html": [
       "<div>\n",
       "<style scoped>\n",
       "    .dataframe tbody tr th:only-of-type {\n",
       "        vertical-align: middle;\n",
       "    }\n",
       "\n",
       "    .dataframe tbody tr th {\n",
       "        vertical-align: top;\n",
       "    }\n",
       "\n",
       "    .dataframe thead th {\n",
       "        text-align: right;\n",
       "    }\n",
       "</style>\n",
       "<table border=\"1\" class=\"dataframe\">\n",
       "  <thead>\n",
       "    <tr style=\"text-align: right;\">\n",
       "      <th></th>\n",
       "      <th>Price</th>\n",
       "      <th>Year</th>\n",
       "      <th>Month</th>\n",
       "      <th>Day</th>\n",
       "    </tr>\n",
       "  </thead>\n",
       "  <tbody>\n",
       "    <tr>\n",
       "      <th>0</th>\n",
       "      <td>1.474805</td>\n",
       "      <td>1.677273</td>\n",
       "      <td>1.584590</td>\n",
       "      <td>1.335567</td>\n",
       "    </tr>\n",
       "    <tr>\n",
       "      <th>1</th>\n",
       "      <td>1.470594</td>\n",
       "      <td>1.677273</td>\n",
       "      <td>1.584590</td>\n",
       "      <td>1.221453</td>\n",
       "    </tr>\n",
       "    <tr>\n",
       "      <th>2</th>\n",
       "      <td>1.474040</td>\n",
       "      <td>1.677273</td>\n",
       "      <td>1.584590</td>\n",
       "      <td>1.107339</td>\n",
       "    </tr>\n",
       "    <tr>\n",
       "      <th>3</th>\n",
       "      <td>1.473082</td>\n",
       "      <td>1.677273</td>\n",
       "      <td>1.584590</td>\n",
       "      <td>0.993225</td>\n",
       "    </tr>\n",
       "    <tr>\n",
       "      <th>4</th>\n",
       "      <td>1.473465</td>\n",
       "      <td>1.677273</td>\n",
       "      <td>1.584590</td>\n",
       "      <td>0.650884</td>\n",
       "    </tr>\n",
       "    <tr>\n",
       "      <th>...</th>\n",
       "      <td>...</td>\n",
       "      <td>...</td>\n",
       "      <td>...</td>\n",
       "      <td>...</td>\n",
       "    </tr>\n",
       "    <tr>\n",
       "      <th>5701</th>\n",
       "      <td>1.759744</td>\n",
       "      <td>1.735506</td>\n",
       "      <td>0.714194</td>\n",
       "      <td>0.308543</td>\n",
       "    </tr>\n",
       "    <tr>\n",
       "      <th>5702</th>\n",
       "      <td>1.780995</td>\n",
       "      <td>1.735506</td>\n",
       "      <td>0.714194</td>\n",
       "      <td>0.194429</td>\n",
       "    </tr>\n",
       "    <tr>\n",
       "      <th>5703</th>\n",
       "      <td>1.775060</td>\n",
       "      <td>1.735506</td>\n",
       "      <td>0.714194</td>\n",
       "      <td>0.262026</td>\n",
       "    </tr>\n",
       "    <tr>\n",
       "      <th>5704</th>\n",
       "      <td>1.780229</td>\n",
       "      <td>1.735506</td>\n",
       "      <td>0.714194</td>\n",
       "      <td>0.376139</td>\n",
       "    </tr>\n",
       "    <tr>\n",
       "      <th>5705</th>\n",
       "      <td>1.724517</td>\n",
       "      <td>1.735506</td>\n",
       "      <td>0.714194</td>\n",
       "      <td>0.490253</td>\n",
       "    </tr>\n",
       "  </tbody>\n",
       "</table>\n",
       "<p>5706 rows × 4 columns</p>\n",
       "</div>"
      ],
      "text/plain": [
       "         Price      Year     Month       Day\n",
       "0     1.474805  1.677273  1.584590  1.335567\n",
       "1     1.470594  1.677273  1.584590  1.221453\n",
       "2     1.474040  1.677273  1.584590  1.107339\n",
       "3     1.473082  1.677273  1.584590  0.993225\n",
       "4     1.473465  1.677273  1.584590  0.650884\n",
       "...        ...       ...       ...       ...\n",
       "5701  1.759744  1.735506  0.714194  0.308543\n",
       "5702  1.780995  1.735506  0.714194  0.194429\n",
       "5703  1.775060  1.735506  0.714194  0.262026\n",
       "5704  1.780229  1.735506  0.714194  0.376139\n",
       "5705  1.724517  1.735506  0.714194  0.490253\n",
       "\n",
       "[5706 rows x 4 columns]"
      ]
     },
     "execution_count": 7,
     "metadata": {},
     "output_type": "execute_result"
    }
   ],
   "source": [
    "z=np.abs(stats.zscore(df))\n",
    "z"
   ]
  },
  {
   "cell_type": "code",
   "execution_count": 8,
   "id": "0323ac8c",
   "metadata": {},
   "outputs": [
    {
     "data": {
      "text/plain": [
       "(array([], dtype=int64), array([], dtype=int64))"
      ]
     },
     "execution_count": 8,
     "metadata": {},
     "output_type": "execute_result"
    }
   ],
   "source": [
    "threshold=3\n",
    "np.where(z>threshold)"
   ]
  },
  {
   "cell_type": "code",
   "execution_count": 9,
   "id": "8e2dfc91",
   "metadata": {},
   "outputs": [
    {
     "data": {
      "text/html": [
       "<div>\n",
       "<style scoped>\n",
       "    .dataframe tbody tr th:only-of-type {\n",
       "        vertical-align: middle;\n",
       "    }\n",
       "\n",
       "    .dataframe tbody tr th {\n",
       "        vertical-align: top;\n",
       "    }\n",
       "\n",
       "    .dataframe thead th {\n",
       "        text-align: right;\n",
       "    }\n",
       "</style>\n",
       "<table border=\"1\" class=\"dataframe\">\n",
       "  <thead>\n",
       "    <tr style=\"text-align: right;\">\n",
       "      <th></th>\n",
       "      <th>Price</th>\n",
       "      <th>Year</th>\n",
       "      <th>Month</th>\n",
       "      <th>Day</th>\n",
       "    </tr>\n",
       "  </thead>\n",
       "  <tbody>\n",
       "    <tr>\n",
       "      <th>0</th>\n",
       "      <td>281.0</td>\n",
       "      <td>2000</td>\n",
       "      <td>1</td>\n",
       "      <td>4</td>\n",
       "    </tr>\n",
       "    <tr>\n",
       "      <th>1</th>\n",
       "      <td>283.2</td>\n",
       "      <td>2000</td>\n",
       "      <td>1</td>\n",
       "      <td>5</td>\n",
       "    </tr>\n",
       "    <tr>\n",
       "      <th>2</th>\n",
       "      <td>281.4</td>\n",
       "      <td>2000</td>\n",
       "      <td>1</td>\n",
       "      <td>6</td>\n",
       "    </tr>\n",
       "    <tr>\n",
       "      <th>3</th>\n",
       "      <td>281.9</td>\n",
       "      <td>2000</td>\n",
       "      <td>1</td>\n",
       "      <td>7</td>\n",
       "    </tr>\n",
       "    <tr>\n",
       "      <th>4</th>\n",
       "      <td>281.7</td>\n",
       "      <td>2000</td>\n",
       "      <td>1</td>\n",
       "      <td>10</td>\n",
       "    </tr>\n",
       "    <tr>\n",
       "      <th>...</th>\n",
       "      <td>...</td>\n",
       "      <td>...</td>\n",
       "      <td>...</td>\n",
       "      <td>...</td>\n",
       "    </tr>\n",
       "    <tr>\n",
       "      <th>5701</th>\n",
       "      <td>1970.5</td>\n",
       "      <td>2022</td>\n",
       "      <td>4</td>\n",
       "      <td>13</td>\n",
       "    </tr>\n",
       "    <tr>\n",
       "      <th>5702</th>\n",
       "      <td>1981.6</td>\n",
       "      <td>2022</td>\n",
       "      <td>4</td>\n",
       "      <td>14</td>\n",
       "    </tr>\n",
       "    <tr>\n",
       "      <th>5703</th>\n",
       "      <td>1978.5</td>\n",
       "      <td>2022</td>\n",
       "      <td>4</td>\n",
       "      <td>18</td>\n",
       "    </tr>\n",
       "    <tr>\n",
       "      <th>5704</th>\n",
       "      <td>1981.2</td>\n",
       "      <td>2022</td>\n",
       "      <td>4</td>\n",
       "      <td>19</td>\n",
       "    </tr>\n",
       "    <tr>\n",
       "      <th>5705</th>\n",
       "      <td>1952.1</td>\n",
       "      <td>2022</td>\n",
       "      <td>4</td>\n",
       "      <td>20</td>\n",
       "    </tr>\n",
       "  </tbody>\n",
       "</table>\n",
       "<p>5706 rows × 4 columns</p>\n",
       "</div>"
      ],
      "text/plain": [
       "       Price  Year  Month  Day\n",
       "0      281.0  2000      1    4\n",
       "1      283.2  2000      1    5\n",
       "2      281.4  2000      1    6\n",
       "3      281.9  2000      1    7\n",
       "4      281.7  2000      1   10\n",
       "...      ...   ...    ...  ...\n",
       "5701  1970.5  2022      4   13\n",
       "5702  1981.6  2022      4   14\n",
       "5703  1978.5  2022      4   18\n",
       "5704  1981.2  2022      4   19\n",
       "5705  1952.1  2022      4   20\n",
       "\n",
       "[5706 rows x 4 columns]"
      ]
     },
     "execution_count": 9,
     "metadata": {},
     "output_type": "execute_result"
    }
   ],
   "source": [
    "df_no_outliers=df[(z<=3).all(axis=1)]\n",
    "df_no_outliers"
   ]
  },
  {
   "cell_type": "code",
   "execution_count": 10,
   "id": "56555fa5",
   "metadata": {},
   "outputs": [
    {
     "data": {
      "text/plain": [
       "(5706, 4)"
      ]
     },
     "execution_count": 10,
     "metadata": {},
     "output_type": "execute_result"
    }
   ],
   "source": [
    "df_no_outliers.shape"
   ]
  },
  {
   "cell_type": "markdown",
   "id": "14aa971c",
   "metadata": {
    "papermill": {
     "duration": 0.058702,
     "end_time": "2022-04-21T13:32:42.937787",
     "exception": false,
     "start_time": "2022-04-21T13:32:42.879085",
     "status": "completed"
    },
    "tags": []
   },
   "source": [
    "# Visualization"
   ]
  },
  {
   "cell_type": "markdown",
   "id": "f0b2dba5",
   "metadata": {},
   "source": [
    "### Bar Graph"
   ]
  },
  {
   "cell_type": "markdown",
   "id": "b4837e44",
   "metadata": {},
   "source": [
    "### Price base on month of a year"
   ]
  },
  {
   "cell_type": "code",
   "execution_count": 11,
   "id": "c6524611",
   "metadata": {},
   "outputs": [
    {
     "data": {
      "text/plain": [
       "Text(0.5, 1.0, 'PRICE OF GOLD BASE ON MONTHS')"
      ]
     },
     "execution_count": 11,
     "metadata": {},
     "output_type": "execute_result"
    },
    {
     "data": {
      "image/png": "[encoded data removed]",
      "text/plain": [
       "<Figure size 432x288 with 1 Axes>"
      ]
     },
     "metadata": {
      "needs_background": "light"
     },
     "output_type": "display_data"
    }
   ],
   "source": [
    "plt.bar(df['Month'],df['Price'],color='blue')\n",
    "plt.xlabel('Month')\n",
    "plt.ylabel('Price')\n",
    "plt.title('PRICE OF GOLD BASE ON MONTHS')"
   ]
  },
  {
   "cell_type": "markdown",
   "id": "213f0cec",
   "metadata": {},
   "source": [
    "### Price base on the Year"
   ]
  },
  {
   "cell_type": "code",
   "execution_count": 12,
   "id": "de0b4691",
   "metadata": {},
   "outputs": [
    {
     "data": {
      "text/plain": [
       "Text(0.5, 1.0, 'PRICE OF GOLD BASE ON YEAR')"
      ]
     },
     "execution_count": 12,
     "metadata": {},
     "output_type": "execute_result"
    },
    {
     "data": {
      "image/png": "[encoded data removed]",
      "text/plain": [
       "<Figure size 432x288 with 1 Axes>"
      ]
     },
     "metadata": {
      "needs_background": "light"
     },
     "output_type": "display_data"
    }
   ],
   "source": [
    "plt.bar(df['Year'],df['Price'],color='Green')\n",
    "plt.xlabel('Year')\n",
    "plt.ylabel('Price')\n",
    "plt.title('PRICE OF GOLD BASE ON YEAR')"
   ]
  },
  {
   "cell_type": "code",
   "execution_count": 13,
   "id": "43656413",
   "metadata": {},
   "outputs": [
    {
     "data": {
      "text/html": [
       "<div>\n",
       "<style scoped>\n",
       "    .dataframe tbody tr th:only-of-type {\n",
       "        vertical-align: middle;\n",
       "    }\n",
       "\n",
       "    .dataframe tbody tr th {\n",
       "        vertical-align: top;\n",
       "    }\n",
       "\n",
       "    .dataframe thead th {\n",
       "        text-align: right;\n",
       "    }\n",
       "</style>\n",
       "<table border=\"1\" class=\"dataframe\">\n",
       "  <thead>\n",
       "    <tr style=\"text-align: right;\">\n",
       "      <th></th>\n",
       "      <th>Price</th>\n",
       "      <th>Year</th>\n",
       "      <th>Month</th>\n",
       "      <th>Day</th>\n",
       "    </tr>\n",
       "  </thead>\n",
       "  <tbody>\n",
       "    <tr>\n",
       "      <th>0</th>\n",
       "      <td>281.0</td>\n",
       "      <td>2000</td>\n",
       "      <td>1</td>\n",
       "      <td>4</td>\n",
       "    </tr>\n",
       "    <tr>\n",
       "      <th>1</th>\n",
       "      <td>283.2</td>\n",
       "      <td>2000</td>\n",
       "      <td>1</td>\n",
       "      <td>5</td>\n",
       "    </tr>\n",
       "    <tr>\n",
       "      <th>2</th>\n",
       "      <td>281.4</td>\n",
       "      <td>2000</td>\n",
       "      <td>1</td>\n",
       "      <td>6</td>\n",
       "    </tr>\n",
       "    <tr>\n",
       "      <th>3</th>\n",
       "      <td>281.9</td>\n",
       "      <td>2000</td>\n",
       "      <td>1</td>\n",
       "      <td>7</td>\n",
       "    </tr>\n",
       "    <tr>\n",
       "      <th>4</th>\n",
       "      <td>281.7</td>\n",
       "      <td>2000</td>\n",
       "      <td>1</td>\n",
       "      <td>10</td>\n",
       "    </tr>\n",
       "    <tr>\n",
       "      <th>...</th>\n",
       "      <td>...</td>\n",
       "      <td>...</td>\n",
       "      <td>...</td>\n",
       "      <td>...</td>\n",
       "    </tr>\n",
       "    <tr>\n",
       "      <th>5701</th>\n",
       "      <td>1970.5</td>\n",
       "      <td>2022</td>\n",
       "      <td>4</td>\n",
       "      <td>13</td>\n",
       "    </tr>\n",
       "    <tr>\n",
       "      <th>5702</th>\n",
       "      <td>1981.6</td>\n",
       "      <td>2022</td>\n",
       "      <td>4</td>\n",
       "      <td>14</td>\n",
       "    </tr>\n",
       "    <tr>\n",
       "      <th>5703</th>\n",
       "      <td>1978.5</td>\n",
       "      <td>2022</td>\n",
       "      <td>4</td>\n",
       "      <td>18</td>\n",
       "    </tr>\n",
       "    <tr>\n",
       "      <th>5704</th>\n",
       "      <td>1981.2</td>\n",
       "      <td>2022</td>\n",
       "      <td>4</td>\n",
       "      <td>19</td>\n",
       "    </tr>\n",
       "    <tr>\n",
       "      <th>5705</th>\n",
       "      <td>1952.1</td>\n",
       "      <td>2022</td>\n",
       "      <td>4</td>\n",
       "      <td>20</td>\n",
       "    </tr>\n",
       "  </tbody>\n",
       "</table>\n",
       "<p>5706 rows × 4 columns</p>\n",
       "</div>"
      ],
      "text/plain": [
       "       Price  Year  Month  Day\n",
       "0      281.0  2000      1    4\n",
       "1      283.2  2000      1    5\n",
       "2      281.4  2000      1    6\n",
       "3      281.9  2000      1    7\n",
       "4      281.7  2000      1   10\n",
       "...      ...   ...    ...  ...\n",
       "5701  1970.5  2022      4   13\n",
       "5702  1981.6  2022      4   14\n",
       "5703  1978.5  2022      4   18\n",
       "5704  1981.2  2022      4   19\n",
       "5705  1952.1  2022      4   20\n",
       "\n",
       "[5706 rows x 4 columns]"
      ]
     },
     "execution_count": 13,
     "metadata": {},
     "output_type": "execute_result"
    }
   ],
   "source": [
    "df"
   ]
  },
  {
   "cell_type": "code",
   "execution_count": 14,
   "id": "74618259",
   "metadata": {},
   "outputs": [],
   "source": [
    "columns = ['Year', 'Month', 'Day', 'Price']\n",
    "df = df[columns]"
   ]
  },
  {
   "cell_type": "markdown",
   "id": "b0391182",
   "metadata": {},
   "source": [
    "### Seperating Dependent and Independent variables"
   ]
  },
  {
   "cell_type": "code",
   "execution_count": 15,
   "id": "6e1e2833",
   "metadata": {},
   "outputs": [],
   "source": [
    "X = df.iloc[:, :-1].values\n",
    "Y = df.iloc[:, -1].values"
   ]
  },
  {
   "cell_type": "code",
   "execution_count": 16,
   "id": "cb37bce5",
   "metadata": {},
   "outputs": [
    {
     "data": {
      "text/plain": [
       "array([[2000,    1,    4],\n",
       "       [2000,    1,    5],\n",
       "       [2000,    1,    6],\n",
       "       ...,\n",
       "       [2022,    4,   18],\n",
       "       [2022,    4,   19],\n",
       "       [2022,    4,   20]])"
      ]
     },
     "execution_count": 16,
     "metadata": {},
     "output_type": "execute_result"
    }
   ],
   "source": [
    "X"
   ]
  },
  {
   "cell_type": "code",
   "execution_count": 17,
   "id": "c2b47d18",
   "metadata": {},
   "outputs": [
    {
     "data": {
      "text/plain": [
       "array([ 281. ,  283.2,  281.4, ..., 1978.5, 1981.2, 1952.1])"
      ]
     },
     "execution_count": 17,
     "metadata": {},
     "output_type": "execute_result"
    }
   ],
   "source": [
    "Y"
   ]
  },
  {
   "cell_type": "markdown",
   "id": "cc060ef5",
   "metadata": {},
   "source": [
    "### Train and Test"
   ]
  },
  {
   "cell_type": "code",
   "execution_count": 18,
   "id": "443403b6",
   "metadata": {},
   "outputs": [],
   "source": [
    "from sklearn.model_selection import train_test_split\n",
    "X_train, X_test, Y_train, Y_test = train_test_split(X, Y, test_size=0.25, random_state=101)"
   ]
  },
  {
   "cell_type": "code",
   "execution_count": 19,
   "id": "88ebb471",
   "metadata": {},
   "outputs": [
    {
     "data": {
      "text/plain": [
       "(4279, 3)"
      ]
     },
     "execution_count": 19,
     "metadata": {},
     "output_type": "execute_result"
    }
   ],
   "source": [
    "X_train.shape"
   ]
  },
  {
   "cell_type": "code",
   "execution_count": 20,
   "id": "4af0e3b5",
   "metadata": {},
   "outputs": [
    {
     "data": {
      "text/plain": [
       "(4279,)"
      ]
     },
     "execution_count": 20,
     "metadata": {},
     "output_type": "execute_result"
    }
   ],
   "source": [
    "Y_train.shape"
   ]
  },
  {
   "cell_type": "markdown",
   "id": "f82ed862",
   "metadata": {},
   "source": [
    "### Model Building"
   ]
  },
  {
   "cell_type": "markdown",
   "id": "af97a3d1",
   "metadata": {},
   "source": [
    "### Linear Regression"
   ]
  },
  {
   "cell_type": "code",
   "execution_count": 21,
   "id": "fd39c6f3",
   "metadata": {},
   "outputs": [],
   "source": [
    "from sklearn.linear_model import LinearRegression\n",
    "from sklearn.metrics import mean_absolute_error,mean_squared_error"
   ]
  },
  {
   "cell_type": "code",
   "execution_count": 22,
   "id": "63ba267a",
   "metadata": {},
   "outputs": [
    {
     "data": {
      "text/plain": [
       "array([ 253.19156482, 1649.35667232, 1352.53753174, ..., 1811.97798591,\n",
       "       1588.94174428,  544.88402423])"
      ]
     },
     "execution_count": 22,
     "metadata": {},
     "output_type": "execute_result"
    }
   ],
   "source": [
    "linear_R = LinearRegression()\n",
    "history = linear_R.fit(X_train, Y_train)\n",
    "Y_pred_lr= linear_R.predict(X_test)\n",
    "Y_pred_lr"
   ]
  },
  {
   "cell_type": "code",
   "execution_count": 23,
   "id": "04d4db17",
   "metadata": {},
   "outputs": [
    {
     "data": {
      "text/plain": [
       "array([ 279.8, 1344.5, 1266.1, ..., 1825.3, 1273.4,  402.3])"
      ]
     },
     "execution_count": 23,
     "metadata": {},
     "output_type": "execute_result"
    }
   ],
   "source": [
    "Y_test"
   ]
  },
  {
   "cell_type": "markdown",
   "id": "f51b29c8",
   "metadata": {},
   "source": [
    "### Model Evaluation For Linear Regression"
   ]
  },
  {
   "cell_type": "markdown",
   "id": "48b76cf5",
   "metadata": {},
   "source": [
    "### Checking Accuracy "
   ]
  },
  {
   "cell_type": "code",
   "execution_count": 24,
   "id": "ba75521e",
   "metadata": {},
   "outputs": [],
   "source": [
    "model_accuracy = linear_R.score(X_train, Y_train)\n"
   ]
  },
  {
   "cell_type": "code",
   "execution_count": 25,
   "id": "f32c338a",
   "metadata": {},
   "outputs": [
    {
     "data": {
      "text/plain": [
       "<matplotlib.legend.Legend at 0x7fcd837927c0>"
      ]
     },
     "execution_count": 25,
     "metadata": {},
     "output_type": "execute_result"
    },
    {
     "data": {
      "image/png": "[encoded data removed]",
      "text/plain": [
       "<Figure size 432x288 with 1 Axes>"
      ]
     },
     "metadata": {
      "needs_background": "light"
     },
     "output_type": "display_data"
    }
   ],
   "source": [
    "plt.plot(df['Price'])\n",
    "plt.title('model accuracy')\n",
    "plt.ylabel('accuracy')\n",
    "plt.xlabel('epoch')\n",
    "plt.legend(['train'], loc='upper left')"
   ]
  },
  {
   "cell_type": "markdown",
   "id": "44a6f326",
   "metadata": {},
   "source": [
    "### Mean Square Error"
   ]
  },
  {
   "cell_type": "code",
   "execution_count": 26,
   "id": "65f02e7a",
   "metadata": {},
   "outputs": [
    {
     "data": {
      "text/plain": [
       "158.2111124126755"
      ]
     },
     "execution_count": 26,
     "metadata": {},
     "output_type": "execute_result"
    }
   ],
   "source": [
    "from sklearn.metrics import mean_absolute_error,mean_squared_error\n",
    "mean_absolute_error(Y_test,Y_pred_lr)"
   ]
  },
  {
   "cell_type": "code",
   "execution_count": 27,
   "id": "8be103bb",
   "metadata": {},
   "outputs": [
    {
     "data": {
      "text/plain": [
       "46565.962155947826"
      ]
     },
     "execution_count": 27,
     "metadata": {},
     "output_type": "execute_result"
    }
   ],
   "source": [
    "mean_squared_error(Y_test,Y_pred_lr)"
   ]
  },
  {
   "cell_type": "code",
   "execution_count": 28,
   "id": "5d641323",
   "metadata": {},
   "outputs": [
    {
     "data": {
      "text/plain": [
       "215.7914784136478"
      ]
     },
     "execution_count": 28,
     "metadata": {},
     "output_type": "execute_result"
    }
   ],
   "source": [
    "from math import sqrt\n",
    "sqrt(mean_squared_error(Y_test,Y_pred_lr))"
   ]
  },
  {
   "cell_type": "markdown",
   "id": "b166f5be",
   "metadata": {},
   "source": [
    "### Random Forest"
   ]
  },
  {
   "cell_type": "code",
   "execution_count": 29,
   "id": "4a94c2e4",
   "metadata": {},
   "outputs": [],
   "source": [
    "from sklearn.ensemble import RandomForestRegressor\n",
    "from sklearn.metrics import mean_absolute_error,mean_squared_error"
   ]
  },
  {
   "cell_type": "code",
   "execution_count": 30,
   "id": "71f189ce",
   "metadata": {},
   "outputs": [
    {
     "data": {
      "text/plain": [
       "array([ 279.986, 1340.937, 1282.33 , ..., 1761.419, 1274.168,  393.095])"
      ]
     },
     "execution_count": 30,
     "metadata": {},
     "output_type": "execute_result"
    }
   ],
   "source": [
    "Random_F = RandomForestRegressor()\n",
    "Random_F.fit(X_train, Y_train)\n",
    "Y_pred_rf= Random_F.predict(X_test)\n",
    "Y_pred_rf"
   ]
  },
  {
   "cell_type": "markdown",
   "id": "2ad33f61",
   "metadata": {},
   "source": [
    "### Checking Accuracy"
   ]
  },
  {
   "cell_type": "code",
   "execution_count": 31,
   "id": "3bc54a81",
   "metadata": {},
   "outputs": [],
   "source": [
    "accur_rf = Random_F.score(X_train, Y_train)\n"
   ]
  },
  {
   "cell_type": "code",
   "execution_count": 32,
   "id": "68396061",
   "metadata": {},
   "outputs": [
    {
     "data": {
      "text/plain": [
       "<matplotlib.legend.Legend at 0x7fcd83710640>"
      ]
     },
     "execution_count": 32,
     "metadata": {},
     "output_type": "execute_result"
    },
    {
     "data": {
      "image/png": "[encoded data removed]",
      "text/plain": [
       "<Figure size 432x288 with 1 Axes>"
      ]
     },
     "metadata": {
      "needs_background": "light"
     },
     "output_type": "display_data"
    }
   ],
   "source": [
    "plt.subplot(2,1,1)\n",
    "plt.plot(accur_rf)\n",
    "plt.title('model accuracy')\n",
    "plt.ylabel('accuracy')\n",
    "plt.xlabel('epoch')\n",
    "plt.legend(['train', 'test'], loc='lower right')"
   ]
  },
  {
   "cell_type": "markdown",
   "id": "f66dafb3",
   "metadata": {},
   "source": [
    "### Mean Square Error"
   ]
  },
  {
   "cell_type": "code",
   "execution_count": 33,
   "id": "fa52eb86",
   "metadata": {},
   "outputs": [
    {
     "data": {
      "text/plain": [
       "9.695685283812187"
      ]
     },
     "execution_count": 33,
     "metadata": {},
     "output_type": "execute_result"
    }
   ],
   "source": [
    "mean_absolute_error(Y_test,Y_pred_rf)"
   ]
  },
  {
   "cell_type": "code",
   "execution_count": 34,
   "id": "056033b6",
   "metadata": {},
   "outputs": [
    {
     "data": {
      "text/plain": [
       "263.0108854973864"
      ]
     },
     "execution_count": 34,
     "metadata": {},
     "output_type": "execute_result"
    }
   ],
   "source": [
    "mean_squared_error(Y_test,Y_pred_rf)"
   ]
  },
  {
   "cell_type": "code",
   "execution_count": 35,
   "id": "3412a399",
   "metadata": {},
   "outputs": [
    {
     "data": {
      "text/plain": [
       "16.21761035101616"
      ]
     },
     "execution_count": 35,
     "metadata": {},
     "output_type": "execute_result"
    }
   ],
   "source": [
    "sqrt(mean_squared_error(Y_test,Y_pred_rf))"
   ]
  }
 ],
 "metadata": {
  "kernelspec": {
   "display_name": "Python 3 (ipykernel)",
   "language": "python",
   "name": "python3"
  },
  "language_info": {
   "codemirror_mode": {
    "name": "ipython",
    "version": 3
   },
   "file_extension": ".py",
   "mimetype": "text/x-python",
   "name": "python",
   "nbconvert_exporter": "python",
   "pygments_lexer": "ipython3",
   "version": "3.9.12"
  },
  "papermill": {
   "default_parameters": {},
   "duration": 48.742279,
   "end_time": "2022-04-21T13:33:18.668601",
   "environment_variables": {},
   "exception": null,
   "input_path": "__notebook__.ipynb",
   "output_path": "__notebook__.ipynb",
   "parameters": {},
   "start_time": "2022-04-21T13:32:29.926322",
   "version": "2.3.4"
  },
  "vscode": {
   "interpreter": {
    "hash": "91b334132c09974e4ddd63ba29c7e8fb9ea243466490032e65eda0e24a26b747"
   }
  }
 },
 "nbformat": 4,
 "nbformat_minor": 5
}
